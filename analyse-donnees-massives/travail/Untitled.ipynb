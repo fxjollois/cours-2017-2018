{
 "cells": [
  {
   "cell_type": "code",
   "execution_count": 3,
   "metadata": {},
   "outputs": [
    {
     "name": "stdout",
     "output_type": "stream",
     "text": [
      "3.5.2 (default, Nov 23 2017, 16:37:01) \n",
      "[GCC 5.4.0 20160609]\n"
     ]
    }
   ],
   "source": [
    "import sys\n",
    "print(sys.version)\n",
    "\n",
    "# bla bla bla *bla bla* [lien](mon.lien)...."
   ]
  },
  {
   "cell_type": "code",
   "execution_count": 7,
   "metadata": {},
   "outputs": [
    {
     "name": "stdout",
     "output_type": "stream",
     "text": [
      "dans le IF\n",
      "sup\n"
     ]
    }
   ],
   "source": [
    "a = 3\n",
    "if (a > 2):\n",
    "    print(\"dans le IF\")\n",
    "    print(\"sup\")"
   ]
  },
  {
   "cell_type": "code",
   "execution_count": 8,
   "metadata": {},
   "outputs": [
    {
     "data": {
      "text/plain": [
       "range(0, 5)"
      ]
     },
     "execution_count": 8,
     "metadata": {},
     "output_type": "execute_result"
    }
   ],
   "source": [
    "range(5)"
   ]
  },
  {
   "cell_type": "code",
   "execution_count": 10,
   "metadata": {},
   "outputs": [
    {
     "data": {
      "text/plain": [
       "'uj'"
      ]
     },
     "execution_count": 10,
     "metadata": {},
     "output_type": "execute_result"
    }
   ],
   "source": [
    "a = \"Bonjour\"\n",
    "a[5:1:-2]"
   ]
  },
  {
   "cell_type": "code",
   "execution_count": 11,
   "metadata": {},
   "outputs": [
    {
     "data": {
      "text/plain": [
       "'Une chaîne de caractère'"
      ]
     },
     "execution_count": 11,
     "metadata": {},
     "output_type": "execute_result"
    }
   ],
   "source": [
    "\"une chaîne de caractère\".capitalize()"
   ]
  },
  {
   "cell_type": "code",
   "execution_count": 12,
   "metadata": {},
   "outputs": [
    {
     "data": {
      "text/plain": [
       "1"
      ]
     },
     "execution_count": 12,
     "metadata": {},
     "output_type": "execute_result"
    }
   ],
   "source": [
    "a.find(\"o\")"
   ]
  },
  {
   "cell_type": "code",
   "execution_count": 21,
   "metadata": {},
   "outputs": [
    {
     "name": "stdout",
     "output_type": "stream",
     "text": [
      "[5, 1, 9, 7]\n"
     ]
    }
   ],
   "source": [
    "a = [3, 1, 9, 7]\n",
    "a[0] = 5\n",
    "print(a)"
   ]
  },
  {
   "cell_type": "code",
   "execution_count": 22,
   "metadata": {},
   "outputs": [
    {
     "name": "stdout",
     "output_type": "stream",
     "text": [
      "7\n",
      "[5, 1, 9]\n"
     ]
    }
   ],
   "source": [
    "print(a.pop())\n",
    "print(a)"
   ]
  },
  {
   "cell_type": "code",
   "execution_count": 26,
   "metadata": {},
   "outputs": [
    {
     "name": "stdout",
     "output_type": "stream",
     "text": [
      "[5, 1, 9, 1, 2]\n",
      "[5, 1, 9, 5, 1, 9]\n"
     ]
    }
   ],
   "source": [
    "print(a + [1, 2])\n",
    "print(a * 2)"
   ]
  },
  {
   "cell_type": "code",
   "execution_count": 27,
   "metadata": {},
   "outputs": [
    {
     "name": "stdout",
     "output_type": "stream",
     "text": [
      "[9, 1, 81, 49]\n"
     ]
    }
   ],
   "source": [
    "a = [3, 1, 9, 7]\n",
    "b = [x**2 for x in a]\n",
    "print(b)"
   ]
  },
  {
   "cell_type": "code",
   "execution_count": 28,
   "metadata": {},
   "outputs": [
    {
     "name": "stdout",
     "output_type": "stream",
     "text": [
      "[9, 1, 81, 49]\n"
     ]
    }
   ],
   "source": [
    "c = []\n",
    "for x in a:\n",
    "    c.append(x ** 2)\n"
   ]
  },
  {
   "cell_type": "code",
   "execution_count": 29,
   "metadata": {},
   "outputs": [],
   "source": [
    "fruits = [\"pommes\", \"bananes\", \"poires\", \"oranges\"]\n",
    "nombres = [5, 2, 10, 4]"
   ]
  },
  {
   "cell_type": "code",
   "execution_count": 30,
   "metadata": {},
   "outputs": [
    {
     "data": {
      "text/plain": [
       "{'bananes': 2, 'oranges': 4, 'poires': 10, 'pommes': 5}"
      ]
     },
     "execution_count": 30,
     "metadata": {},
     "output_type": "execute_result"
    }
   ],
   "source": [
    "{fruits[i]:nombres[i] for i in range(4)}"
   ]
  },
  {
   "cell_type": "code",
   "execution_count": 31,
   "metadata": {},
   "outputs": [
    {
     "data": {
      "text/plain": [
       "{'bananes': 2, 'oranges': 4, 'poires': 10, 'pommes': 5}"
      ]
     },
     "execution_count": 31,
     "metadata": {},
     "output_type": "execute_result"
    }
   ],
   "source": [
    "dict(zip(fruits, nombres))"
   ]
  },
  {
   "cell_type": "code",
   "execution_count": 32,
   "metadata": {},
   "outputs": [
    {
     "name": "stdout",
     "output_type": "stream",
     "text": [
      "Bonjour Jollois\n"
     ]
    }
   ],
   "source": [
    "def afficheBonjour(nom):\n",
    "    print(\"Bonjour\", nom)\n",
    "afficheBonjour(\"Jollois\")"
   ]
  },
  {
   "cell_type": "code",
   "execution_count": 33,
   "metadata": {},
   "outputs": [
    {
     "ename": "TypeError",
     "evalue": "afficheBonjour() missing 1 required positional argument: 'nom'",
     "output_type": "error",
     "traceback": [
      "\u001b[0;31m---------------------------------------------------------------------------\u001b[0m",
      "\u001b[0;31mTypeError\u001b[0m                                 Traceback (most recent call last)",
      "\u001b[0;32m<ipython-input-33-37309fc59bc8>\u001b[0m in \u001b[0;36m<module>\u001b[0;34m()\u001b[0m\n\u001b[0;32m----> 1\u001b[0;31m \u001b[0mafficheBonjour\u001b[0m\u001b[0;34m(\u001b[0m\u001b[0;34m)\u001b[0m\u001b[0;34m\u001b[0m\u001b[0m\n\u001b[0m",
      "\u001b[0;31mTypeError\u001b[0m: afficheBonjour() missing 1 required positional argument: 'nom'"
     ]
    }
   ],
   "source": [
    "afficheBonjour()"
   ]
  },
  {
   "cell_type": "code",
   "execution_count": 34,
   "metadata": {},
   "outputs": [
    {
     "name": "stdout",
     "output_type": "stream",
     "text": [
      "Bonjour FX Jollois\n"
     ]
    }
   ],
   "source": [
    "def afficheBonjour(nom, prenom):\n",
    "    print(\"Bonjour\", prenom, nom)\n",
    "afficheBonjour(\"Jollois\", \"FX\")"
   ]
  },
  {
   "cell_type": "code",
   "execution_count": 35,
   "metadata": {},
   "outputs": [
    {
     "ename": "SyntaxError",
     "evalue": "positional argument follows keyword argument (<ipython-input-35-729cd2ccd648>, line 1)",
     "output_type": "error",
     "traceback": [
      "\u001b[0;36m  File \u001b[0;32m\"<ipython-input-35-729cd2ccd648>\"\u001b[0;36m, line \u001b[0;32m1\u001b[0m\n\u001b[0;31m    afficheBonjour(prenom = \"FX\", \"Jollois\")\u001b[0m\n\u001b[0m                                 ^\u001b[0m\n\u001b[0;31mSyntaxError\u001b[0m\u001b[0;31m:\u001b[0m positional argument follows keyword argument\n"
     ]
    }
   ],
   "source": [
    "afficheBonjour(prenom = \"FX\", \"Jollois\")"
   ]
  },
  {
   "cell_type": "markdown",
   "metadata": {},
   "source": [
    "## Exercice"
   ]
  },
  {
   "cell_type": "markdown",
   "metadata": {},
   "source": [
    "Télécharger le fichier et importer les lignes dans python comme ci-dessus"
   ]
  },
  {
   "cell_type": "code",
   "execution_count": null,
   "metadata": {},
   "outputs": [],
   "source": [
    "fichier = open(\"Iris.txt\")\n",
    "lignesBrutes = fichier.readlines()\n",
    "fichier.close"
   ]
  },
  {
   "cell_type": "markdown",
   "metadata": {},
   "source": [
    "A partir de la liste de chaînes obtenue, créer une liste de 151 listes. Chaque sous-liste contiendra les 5 informations présentes sur chaque ligne (séparées par des \";\"). Supprimer les quotes (\"'\") et le caractère de fin de ligne (\"\\n\")."
   ]
  },
  {
   "cell_type": "code",
   "execution_count": 95,
   "metadata": {},
   "outputs": [
    {
     "data": {
      "text/plain": [
       "[['Sepal Length', 'Sepal Width', 'Petal Length', 'Petal Width', 'Species'],\n",
       " ['5.1', '3.5', '1.4', '0.2', 'setosa'],\n",
       " ['4.9', '3', '1.4', '0.2', 'setosa'],\n",
       " ['4.7', '3.2', '1.3', '0.2', 'setosa'],\n",
       " ['4.6', '3.1', '1.5', '0.2', 'setosa']]"
      ]
     },
     "execution_count": 95,
     "metadata": {},
     "output_type": "execute_result"
    }
   ],
   "source": [
    "lb = [x.replace(\"\\n\", \"\").replace('\"', \"\").split(\"\\t\") for x in lignesBrutes]\n",
    "lb[:5]"
   ]
  },
  {
   "cell_type": "markdown",
   "metadata": {},
   "source": [
    "Créer une fonction permettant de transformer une chaîne en réel\n",
    "si cette chaîne n'est pas transformable, renvoyer la telle quelle\n",
    "Exemple : f(1.234) renverra 1.234, mais f(\"rien\") renverra \"rien\""
   ]
  },
  {
   "cell_type": "code",
   "execution_count": 96,
   "metadata": {},
   "outputs": [
    {
     "name": "stdout",
     "output_type": "stream",
     "text": [
      "2.234\n",
      "1.234\n",
      "rien\n"
     ]
    }
   ],
   "source": [
    "def f(v):\n",
    "    try:\n",
    "        r = float(v)\n",
    "    except:\n",
    "        r = v\n",
    "    finally:\n",
    "        return r\n",
    "print(f(\"1.234\") + 1)\n",
    "print(f(1.234))\n",
    "print(f(\"rien\"))"
   ]
  },
  {
   "cell_type": "markdown",
   "metadata": {},
   "source": [
    "Créer une liste de 150 dictionnaires, chaque dictionnaire sera un iris, avec des champs nommés. Les noms des variables sont sur la première ligne de la liste précédemment créée."
   ]
  },
  {
   "cell_type": "code",
   "execution_count": 97,
   "metadata": {},
   "outputs": [
    {
     "data": {
      "text/plain": [
       "[{'Petal Length': 1.4,\n",
       "  'Petal Width': 0.2,\n",
       "  'Sepal Length': 5.1,\n",
       "  'Sepal Width': 3.5,\n",
       "  'Species': 'setosa'},\n",
       " {'Petal Length': 1.4,\n",
       "  'Petal Width': 0.2,\n",
       "  'Sepal Length': 4.9,\n",
       "  'Sepal Width': 3.0,\n",
       "  'Species': 'setosa'},\n",
       " {'Petal Length': 1.3,\n",
       "  'Petal Width': 0.2,\n",
       "  'Sepal Length': 4.7,\n",
       "  'Sepal Width': 3.2,\n",
       "  'Species': 'setosa'},\n",
       " {'Petal Length': 1.5,\n",
       "  'Petal Width': 0.2,\n",
       "  'Sepal Length': 4.6,\n",
       "  'Sepal Width': 3.1,\n",
       "  'Species': 'setosa'},\n",
       " {'Petal Length': 1.4,\n",
       "  'Petal Width': 0.2,\n",
       "  'Sepal Length': 5.0,\n",
       "  'Sepal Width': 3.6,\n",
       "  'Species': 'setosa'}]"
      ]
     },
     "execution_count": 97,
     "metadata": {},
     "output_type": "execute_result"
    }
   ],
   "source": [
    "l1 = []\n",
    "for i, lbi in enumerate(lb[1:]):\n",
    "    l1.append({lb[0][j]:f(lbi[j]) for j in range(5)})\n",
    "l1[:5]"
   ]
  },
  {
   "cell_type": "markdown",
   "metadata": {},
   "source": [
    "Idéalement à faire en une fois avec des list comprehension"
   ]
  },
  {
   "cell_type": "code",
   "execution_count": 98,
   "metadata": {},
   "outputs": [
    {
     "data": {
      "text/plain": [
       "[{'Petal Length': 1.4,\n",
       "  'Petal Width': 0.2,\n",
       "  'Sepal Length': 5.1,\n",
       "  'Sepal Width': 3.5,\n",
       "  'Species': 'setosa'},\n",
       " {'Petal Length': 1.4,\n",
       "  'Petal Width': 0.2,\n",
       "  'Sepal Length': 4.9,\n",
       "  'Sepal Width': 3.0,\n",
       "  'Species': 'setosa'},\n",
       " {'Petal Length': 1.3,\n",
       "  'Petal Width': 0.2,\n",
       "  'Sepal Length': 4.7,\n",
       "  'Sepal Width': 3.2,\n",
       "  'Species': 'setosa'},\n",
       " {'Petal Length': 1.5,\n",
       "  'Petal Width': 0.2,\n",
       "  'Sepal Length': 4.6,\n",
       "  'Sepal Width': 3.1,\n",
       "  'Species': 'setosa'},\n",
       " {'Petal Length': 1.4,\n",
       "  'Petal Width': 0.2,\n",
       "  'Sepal Length': 5.0,\n",
       "  'Sepal Width': 3.6,\n",
       "  'Species': 'setosa'}]"
      ]
     },
     "execution_count": 98,
     "metadata": {},
     "output_type": "execute_result"
    }
   ],
   "source": [
    "lb0 = lb[0]\n",
    "l2 = [{lb0[j]:f(lbi[j]) for j in range(5)} for lbi in lb[1:]]\n",
    "l2[:5]"
   ]
  },
  {
   "cell_type": "markdown",
   "metadata": {},
   "source": [
    "Calculer pour chaque iris le rapport entre la surface d'un pétale et la surface d'un sépale. La surface de chaque dépend uniquement du produit de la largeur et de la longueur. On fera donc le rapport entre les deux produits."
   ]
  },
  {
   "cell_type": "code",
   "execution_count": 99,
   "metadata": {},
   "outputs": [
    {
     "data": {
      "text/plain": [
       "[{'Petal Length': 1.4,\n",
       "  'Petal Width': 0.2,\n",
       "  'Ratio': 63.75,\n",
       "  'Sepal Length': 5.1,\n",
       "  'Sepal Width': 3.5,\n",
       "  'Species': 'setosa'},\n",
       " {'Petal Length': 1.4,\n",
       "  'Petal Width': 0.2,\n",
       "  'Ratio': 52.50000000000001,\n",
       "  'Sepal Length': 4.9,\n",
       "  'Sepal Width': 3.0,\n",
       "  'Species': 'setosa'},\n",
       " {'Petal Length': 1.3,\n",
       "  'Petal Width': 0.2,\n",
       "  'Ratio': 57.84615384615385,\n",
       "  'Sepal Length': 4.7,\n",
       "  'Sepal Width': 3.2,\n",
       "  'Species': 'setosa'},\n",
       " {'Petal Length': 1.5,\n",
       "  'Petal Width': 0.2,\n",
       "  'Ratio': 47.533333333333324,\n",
       "  'Sepal Length': 4.6,\n",
       "  'Sepal Width': 3.1,\n",
       "  'Species': 'setosa'},\n",
       " {'Petal Length': 1.4,\n",
       "  'Petal Width': 0.2,\n",
       "  'Ratio': 64.28571428571429,\n",
       "  'Sepal Length': 5.0,\n",
       "  'Sepal Width': 3.6,\n",
       "  'Species': 'setosa'}]"
      ]
     },
     "execution_count": 99,
     "metadata": {},
     "output_type": "execute_result"
    }
   ],
   "source": [
    "for l in l1:\n",
    "    l[\"Ratio\"] = (l['Sepal Width'] * l['Sepal Length']) / (l['Petal Width'] * l['Petal Length'])\n",
    "l1[:5]"
   ]
  },
  {
   "cell_type": "markdown",
   "metadata": {},
   "source": [
    "Créer une sous-liste ne contenant que les iris setosa."
   ]
  },
  {
   "cell_type": "code",
   "execution_count": 100,
   "metadata": {},
   "outputs": [
    {
     "data": {
      "text/plain": [
       "50"
      ]
     },
     "execution_count": 100,
     "metadata": {},
     "output_type": "execute_result"
    }
   ],
   "source": [
    "l3 = list(filter(lambda l: l[\"Species\"] == \"setosa\", l2))\n",
    "len(l3)"
   ]
  },
  {
   "cell_type": "markdown",
   "metadata": {},
   "source": [
    "Calculer la moyenne de chaque variable."
   ]
  },
  {
   "cell_type": "code",
   "execution_count": 105,
   "metadata": {},
   "outputs": [
    {
     "name": "stdout",
     "output_type": "stream",
     "text": [
      "{'Sepal Width': 3.057333333333334, 'Petal Width': 1.199333333333334, 'Petal Length': 3.7580000000000027, 'Sepal Length': 5.843333333333335}\n"
     ]
    }
   ],
   "source": [
    "r = l1[0].copy()\n",
    "r.pop(\"Species\")\n",
    "r.pop(\"Ratio\")\n",
    "for l in l1[1:]:\n",
    "    r['Sepal Length'] += l['Sepal Length']\n",
    "    r['Sepal Width']  += l['Sepal Width']\n",
    "    r['Petal Length'] += l['Petal Length']\n",
    "    r['Petal Width']  += l['Petal Width']\n",
    "r['Sepal Length'] /= len(l1)\n",
    "r['Sepal Width']  /= len(l1)\n",
    "r['Petal Length'] /= len(l1)\n",
    "r['Petal Width']  /= len(l1)\n",
    "print(r)"
   ]
  },
  {
   "cell_type": "code",
   "execution_count": 106,
   "metadata": {},
   "outputs": [
    {
     "data": {
      "text/plain": [
       "{'Petal Length': 3.7580000000000027,\n",
       " 'Petal Width': 1.199333333333334,\n",
       " 'Sepal Length': 5.843333333333335,\n",
       " 'Sepal Width': 3.057333333333334}"
      ]
     },
     "execution_count": 106,
     "metadata": {},
     "output_type": "execute_result"
    }
   ],
   "source": [
    "r = l1[0].copy()\n",
    "r.pop(\"Species\")\n",
    "r.pop(\"Ratio\")\n",
    "for l in l1[1:]:\n",
    "    for v in list(filter(lambda k: (k.find('Sepal') >= 0) | (k.find('Petal') >= 0), list(l.keys()))):\n",
    "        r[v] += l[v]\n",
    "for v in list(filter(lambda k: (k.find('Sepal') >= 0) | (k.find('Petal') >= 0), list(l.keys()))):\n",
    "    r[v] /= len(l1)\n",
    "r"
   ]
  },
  {
   "cell_type": "markdown",
   "metadata": {},
   "source": [
    "Calculer la moyenne de chaque variable pour chaque espèce."
   ]
  },
  {
   "cell_type": "code",
   "execution_count": null,
   "metadata": {},
   "outputs": [],
   "source": []
  }
 ],
 "metadata": {
  "kernelspec": {
   "display_name": "Python 3",
   "language": "python",
   "name": "python3"
  },
  "language_info": {
   "codemirror_mode": {
    "name": "ipython",
    "version": 3
   },
   "file_extension": ".py",
   "mimetype": "text/x-python",
   "name": "python",
   "nbconvert_exporter": "python",
   "pygments_lexer": "ipython3",
   "version": "3.5.2"
  }
 },
 "nbformat": 4,
 "nbformat_minor": 2
}
